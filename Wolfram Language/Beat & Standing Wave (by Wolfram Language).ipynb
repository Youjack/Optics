{
 "cells": [
  {
   "cell_type": "markdown",
   "metadata": {},
   "source": [
    "# Beat & Standing Wave (by Wolfram Language)"
   ]
  },
  {
   "cell_type": "markdown",
   "metadata": {},
   "source": [
    "#### define the `beat` function"
   ]
  },
  {
   "cell_type": "code",
   "execution_count": 1,
   "metadata": {
    "scrolled": true
   },
   "outputs": [],
   "source": [
    "(* constant paramaters *)\n",
    "A = 1;\n",
    "ω1 = 4;\n",
    "k1 = 2;\n",
    "\n",
    "beat[t_][ω2_,k2_][showEnvelope_] := Module[\n",
    "    {\n",
    "        ωa, ωm,\n",
    "        ka, km,\n",
    "        up, ug,\n",
    "        carrier, envelope, wave,\n",
    "        table,\n",
    "        range = {0,80}, plotColor = ColorData[68,\"ColorList\"],\n",
    "        envelopePlot, wavePlot, fig\n",
    "    },\n",
    "    \n",
    "    (* angular frequencies *)\n",
    "    ωa = (ω1+ω2)/2;\n",
    "    ωm = (ω1-ω2)/2;\n",
    "    (* wave numbers *)\n",
    "    ka = (k1+k2)/2;\n",
    "    km = (k1-k2)/2;\n",
    "    (* velocities *)\n",
    "    up = ωa/ka //Quiet; \n",
    "    ug = ωm/km //Quiet;\n",
    "    \n",
    "    (* waves *)\n",
    "    carrier [x_] :=    Cos[ka x - ωa t];\n",
    "    envelope[x_] := 2A Cos[km x - ωm t];\n",
    "    wave[x_] := carrier[x]*envelope[x];\n",
    "    \n",
    "    (* table of parameters *)\n",
    "    table = TableForm[\n",
    "        {\n",
    "            Row/@{{Subscript[\"ω\",1],\"=\",ω1//Round[#,0.01]&},{Subscript[\"ω\",2],\"=\",ω2//Round[#,0.01]&},{Subscript[\"ω\",\"a\"],\"=\",ωa//Round[#,0.01]&},{Subscript[\"ω\",\"m\"],\"=\",ωm//Round[#,0.01]&},{Subscript[\"u\",\"p\"],\"=\",up//Round[#,0.01]&}},\n",
    "            Row/@{{Subscript[\"k\",1],\"=\",k1//Round[#,0.01]&},{Subscript[\"k\",2],\"=\",k2//Round[#,0.01]&},{Subscript[\"k\",\"a\"],\"=\",ka//Round[#,0.01]&},{Subscript[\"k\",\"m\"],\"=\",km//Round[#,0.01]&},{Subscript[\"u\",\"g\"],\"=\",ug//Round[#,0.01]&}}\n",
    "        },\n",
    "        TableHeadings->{None,{\"wave1\",\"wave2\",\"average\",\"modulation\",\"velocity\"}},\n",
    "        TableAlignments->{Center,Automatic}\n",
    "    ];\n",
    "    \n",
    "    (* plots of waves *)\n",
    "    envelopePlot = Plot[\n",
    "        {\n",
    "             envelope[x],\n",
    "            -envelope[x]\n",
    "        },\n",
    "        {x,range[[1]],range[[2]]}, \n",
    "        PlotStyle->Directive[Gray,Thickness@Small]\n",
    "    ];\n",
    "    wavePlot = Plot[\n",
    "        wave[x], \n",
    "        {x,range[[1]],range[[2]]}, \n",
    "        PlotStyle->{plotColor[[1]],Thickness@Large}\n",
    "    ];\n",
    "    (* combine the plots into a single figure *)\n",
    "    fig = Show[\n",
    "        {\n",
    "            wavePlot,\n",
    "            If[showEnvelope, envelopePlot, Nothing]\n",
    "        },\n",
    "        PlotRange->{{0,80},{-7,7}}, AxesOrigin->{0,-7},\n",
    "        AxesLabel->{\"x\",\"y\"}, GridLines->Automatic,\n",
    "        ImageSize->Medium\n",
    "    ];\n",
    "    \n",
    "    (* return *)\n",
    "    Column@{ table, fig }\n",
    "];"
   ]
  },
  {
   "cell_type": "markdown",
   "metadata": {},
   "source": [
    "#### plot a static figure"
   ]
  },
  {
   "cell_type": "code",
   "execution_count": 6,
   "metadata": {
    "scrolled": false
   },
   "outputs": [
    {
     "data": {
      "text/html": [
       "<div><img alt=\"Output\" src=\"data:image/png;base64,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\"></div>"
      ],
      "text/plain": [
       "   wave1   wave2    average   modulation   velocity\n",
       "   ω =4.   ω =4.    ω =4.     ω =0.        u =2.11\n",
       "    1       2        a         m            p\n",
       "\n",
       "   k =2.   k =1.8   k =1.9    k =0.1       u =0.\n",
       "    1       2        a         m            g\n",
       "-Graphics-"
      ]
     },
     "execution_count": 6,
     "metadata": {
      "text/html": [],
      "text/plain": []
     },
     "output_type": "execute_result"
    }
   ],
   "source": [
    "beat[0.3][4,1.8][True]"
   ]
  },
  {
   "cell_type": "markdown",
   "metadata": {},
   "source": [
    "#### create an animation (export a GIF file)"
   ]
  },
  {
   "cell_type": "code",
   "execution_count": null,
   "metadata": {
    "scrolled": false
   },
   "outputs": [],
   "source": [
    "Export[\"beat.gif\",\n",
    "    Table[\n",
    "        beat[t][3.5,-1.8][True],\n",
    "        {t,0,10,0.1}\n",
    "    ],\n",
    "    ImageResolution->96,\n",
    "    \"DisplayDurations\"->1/15, AnimationRepetitions->Infinity\n",
    "]"
   ]
  },
  {
   "cell_type": "markdown",
   "metadata": {},
   "source": [
    "#### create an interactive interface (export a CDF file)"
   ]
  },
  {
   "cell_type": "code",
   "execution_count": null,
   "metadata": {
    "scrolled": true
   },
   "outputs": [],
   "source": [
    "Export[\n",
    "    FileNameJoin@{Directory[],\"beat.cdf\"},\n",
    "    Notebook[{Cell[BoxData@ToBoxes@#,\"Output\"]}, WindowSize->All],\n",
    "    \"CDF\"\n",
    "]& @\n",
    "Manipulate[\n",
    "    beat[t][ω2,If[k2reversed,-k2,k2]][showEnvelope],\n",
    "    \n",
    "    {{ω2, ω1, Subscript[\"ω\",2]}, ω1-0.5,ω1},\n",
    "    {{k2, k1, Subscript[\"k\",2]}, k1-0.3,k1},\n",
    "    {{k2reversed  , False, \"direction reversed\"}, {True,False}},\n",
    "    {{showEnvelope, True , \"show envelope\"     }, {True,False}},\n",
    "    {{t, 0, \"t\"}, 0,10, Animator, \n",
    "        DefaultDuration->7,\n",
    "        AnimationRepetitions->Infinity, AnimationRunning->False},\n",
    "    TrackedSymbols->{ω2,k2,k2reversed,showEnvelope,t},\n",
    "    \n",
    "    ControlPlacement->Right,\n",
    "    SaveDefinitions->True\n",
    "]"
   ]
  }
 ],
 "metadata": {
  "kernelspec": {
   "display_name": "Wolfram Language 12.1",
   "language": "Wolfram Language",
   "name": "wolframlanguage12.1"
  },
  "language_info": {
   "codemirror_mode": "mathematica",
   "file_extension": ".m",
   "mimetype": "application/vnd.wolfram.m",
   "name": "Wolfram Language",
   "pygments_lexer": "mathematica",
   "version": "12.0"
  }
 },
 "nbformat": 4,
 "nbformat_minor": 4
}
