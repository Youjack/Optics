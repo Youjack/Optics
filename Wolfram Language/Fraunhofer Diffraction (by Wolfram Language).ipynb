{
 "cells": [
  {
   "cell_type": "markdown",
   "id": "falling-responsibility",
   "metadata": {},
   "source": [
    "# Fraunhofer Diffraction (by Wolfram Language)"
   ]
  },
  {
   "cell_type": "markdown",
   "id": "split-staff",
   "metadata": {},
   "source": [
    "#### define the `Fraunhofer` function"
   ]
  },
  {
   "cell_type": "code",
   "execution_count": 1,
   "id": "legislative-lightning",
   "metadata": {},
   "outputs": [],
   "source": [
    "Fraunhofer[$λ_,$a_,$d_,N_][showEnvelope_,scale_] := Module[\n",
    "    {\n",
    "        λ, a, d,\n",
    "        α, envelope, γ, fringe,\n",
    "        table,\n",
    "        envelopePlot, fringePlot, fig\n",
    "    },\n",
    "    \n",
    "    (* parameters *)\n",
    "    λ = $λ 10^(-9);\n",
    "    a = $a 10^(-6);\n",
    "    d = $d a;\n",
    "    \n",
    "    (* table of parameters *)\n",
    "    table = Column@{\n",
    "        Row@{\"λ=\",$λ,\"nm\", Spacer@20, \"a=\",$a,\"μm\"},\n",
    "        Row@{\"d/a=\",$d, Spacer@20, \"N=\",N}\n",
    "    };\n",
    "    \n",
    "    (* fringe of single-slit diffraction *)\n",
    "    α[s_] := Pi a s / λ;\n",
    "    envelope[s_] := ( Sin[α@s] / α@s )^2;\n",
    "    (* fringe of multi-slit diffraction *)\n",
    "    γ[s_] := Pi d s / λ;\n",
    "    fringe[s_] := envelope@s ( Sin[N γ@s] / Sin[γ@s] )^2;\n",
    "    \n",
    "    (* plots of waves *)\n",
    "    envelopePlot := Plot[\n",
    "        If[scale, (* scale the intensity to make secondary bright fringes more visible *)\n",
    "            Sqrt[envelope@s N^2],\n",
    "            envelope@s N^2\n",
    "        ],\n",
    "        {s,-1,1},\n",
    "        PlotRange->{0,If[scale,N,N^2]},\n",
    "        PlotStyle->{Gray,Thickness@Small}\n",
    "    ];\n",
    "    fringePlot := Plot[\n",
    "        If[scale,\n",
    "            Sqrt[fringe@s],\n",
    "            fringe@s\n",
    "        ],\n",
    "        {s,-1,1},\n",
    "        PlotRange->{0,If[scale,N,N^2]},\n",
    "        PlotPoints->100,\n",
    "        PlotStyle->{ColorData[68,\"ColorList\"][[1]],Thickness@Large}\n",
    "    ];\n",
    "    (* combine the plots into a single figure *)\n",
    "    fig = Show[\n",
    "        {\n",
    "            If[showEnvelope, envelopePlot, Nothing],\n",
    "            fringePlot\n",
    "        },\n",
    "        AxesLabel->{\"sin θ\",\"Intensity\"}, AxesOrigin->{-1,0},\n",
    "        ImageSize->Medium\n",
    "    ];\n",
    "    \n",
    "    (* return *)\n",
    "    Column@{ table, fig }\n",
    "];"
   ]
  },
  {
   "cell_type": "markdown",
   "id": "civilian-launch",
   "metadata": {},
   "source": [
    "#### plot a static figure"
   ]
  },
  {
   "cell_type": "code",
   "execution_count": 2,
   "id": "excessive-fisher",
   "metadata": {},
   "outputs": [
    {
     "data": {
      "text/html": [
       "<div><img alt=\"Output\" src=\"data:image/png;base64,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\"></div>"
      ],
      "text/plain": [
       "λ=500nmSpacer[20]a=1μm\n",
       "d/a=3Spacer[20]N=5\n",
       "-Graphics-"
      ]
     },
     "execution_count": 2,
     "metadata": {
      "text/html": [],
      "text/plain": []
     },
     "output_type": "execute_result"
    }
   ],
   "source": [
    "Fraunhofer[500,1,3,5][True,False]"
   ]
  },
  {
   "cell_type": "markdown",
   "id": "choice-dressing",
   "metadata": {},
   "source": [
    "#### create an interactive interface (export a CDF file)"
   ]
  },
  {
   "cell_type": "code",
   "execution_count": null,
   "id": "proof-gross",
   "metadata": {},
   "outputs": [],
   "source": [
    "Export[\n",
    "    FileNameJoin@{Directory[],\"Fraunhofer.cdf\"},\n",
    "    Notebook[{Cell[BoxData@ToBoxes@#,\"Output\"]}, WindowSize->All],\n",
    "    \"CDF\"\n",
    "]& @\n",
    "Manipulate[\n",
    "    Fraunhofer[$λ,$a,$d,N][showEnvelope,scale],\n",
    "    \n",
    "    {{$λ, 500, \"λ (nm)\"}, 400,800,50},\n",
    "    {{$a, 1  , \"a (μm)\"}, 1,5,1     },\n",
    "    {{$d, 3  , \"d/a\"   }, 1,5,0.5   },\n",
    "    {{N , 5  , \"N\"     }, 1,10,1    },\n",
    "    {{showEnvelope, True , \"show envelope\"}, {True,False}},\n",
    "    {{scale       , False, \"scale\"        }, {True,False}},\n",
    "    TrackedSymbols->{$λ,$a,$d,N, showEnvelope,scale},\n",
    "    \n",
    "    ControlPlacement->Right,\n",
    "    SaveDefinitions->True\n",
    "]"
   ]
  }
 ],
 "metadata": {
  "kernelspec": {
   "display_name": "Wolfram Language 12.1",
   "language": "Wolfram Language",
   "name": "wolframlanguage12.1"
  },
  "language_info": {
   "codemirror_mode": "mathematica",
   "file_extension": ".m",
   "mimetype": "application/vnd.wolfram.m",
   "name": "Wolfram Language",
   "pygments_lexer": "mathematica",
   "version": "12.0"
  }
 },
 "nbformat": 4,
 "nbformat_minor": 5
}
