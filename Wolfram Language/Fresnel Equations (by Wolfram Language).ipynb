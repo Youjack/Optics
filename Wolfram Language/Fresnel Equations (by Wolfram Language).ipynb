{
 "cells": [
  {
   "cell_type": "markdown",
   "id": "automated-property",
   "metadata": {},
   "source": [
    "# Fresnel Equations (by Wolfram Language)"
   ]
  },
  {
   "cell_type": "markdown",
   "id": "dried-there",
   "metadata": {},
   "source": [
    "#### define the `Fresnel` function"
   ]
  },
  {
   "cell_type": "code",
   "execution_count": 1,
   "id": "revolutionary-philippines",
   "metadata": {},
   "outputs": [],
   "source": [
    "Fresnel[n1_,n2_][θi_][vectorMagnitude_][showS_,showP_][azimuthal_,elevation_] := Module[\n",
    "    {\n",
    "        θt, θb, θc, totalReflection,\n",
    "        Sr,St, Svectors,\n",
    "        Pr,Pt, Pvectors,\n",
    "        range = 2, plotColor = ColorData[68,\"ColorList\"],\n",
    "        table, fig\n",
    "    },\n",
    "    \n",
    "    (* angles *)\n",
    "    θt = ArcSin[n1/n2 Sin@θi];\n",
    "    θb = ArcTan[n1,n2]; (* Brewster angle *)\n",
    "    θc = ArcSin[n2/n1]; (* critical angle of total internal reflection *)\n",
    "    totalReflection = If[n1<=n2, False, θi>θc];\n",
    "    \n",
    "    (* complex reflection coefficients *)\n",
    "    Sr = (n1 Cos@θi - n2 Cos@θt) / (n1 Cos@θi + n2 Cos@θt) //AbsArg;\n",
    "    Pr = (n2 Cos@θi - n1 Cos@θt) / (n2 Cos@θi + n1 Cos@θt) //AbsArg;\n",
    "    (* transmission coefficients *)\n",
    "    St = 2n1 Cos@θi              / (n1 Cos@θi + n2 Cos@θt);\n",
    "    Pt = 2n1 Cos@θi              / (n2 Cos@θi + n1 Cos@θt);\n",
    "    (* intensity and power *)\n",
    "    If[vectorMagnitude==\"Intensity\",\n",
    "        Sr[[1]] = Sr[[1]]^2; St = n2/n1 St^2;\n",
    "        Pr[[1]] = Pr[[1]]^2; Pt = n2/n1 Pt^2\n",
    "    ];\n",
    "    If[vectorMagnitude==\"Power\",\n",
    "        Sr[[1]] = Sr[[1]]^2; St = Cos@θt/Cos@θi n2/n1 St^2 //If[St==0,St,#]&;\n",
    "        Pr[[1]] = Pr[[1]]^2; Pt = Cos@θt/Cos@θi n2/n1 Pt^2 //If[Pt==0,Pt,#]&\n",
    "        (* examine if St,Pt==0 to avoid cos(90°)==0 *)\n",
    "    ];\n",
    "    \n",
    "    (* table of parameters *)\n",
    "    table = Column@{\n",
    "        Row@{Subscript[\"n\",1],\"=\",n1, Spacer@20, Subscript[\"n\",2],\"=\",n2},\n",
    "        Row@{Subscript[\"θ\",\"b\"],\"=\",θb/Degree//Round[#,0.01]&, Spacer@20, Subscript[\"θ\",\"c\"],\"=\",θc/Degree//Round[#,0.01]&},\n",
    "        TableForm[\n",
    "            {\n",
    "                { θi/Degree//Round[#,0.01]&, θi/Degree//Round[#,0.01]&, θt/Degree//Round[#,0.01]& },\n",
    "                { 1, Row@{Sr[[1]]//Round[#,0.01]&,\"∠\",Sr[[2]]/Degree//Round[#,0.01]&}, If[totalReflection, \"evanescent\", St//Round[#,0.01]&] },\n",
    "                { 1, Row@{Pr[[1]]//Round[#,0.01]&,\"∠\",Pr[[2]]/Degree//Round[#,0.01]&}, If[totalReflection, \"evanescent\", Pt//Round[#,0.01]&] }\n",
    "            },\n",
    "            TableHeadings->{\n",
    "                {\"angle\",\"S(\"<>vectorMagnitude<>\")\",\"P(\"<>vectorMagnitude<>\")\"},\n",
    "                {\"incident\",\"reflected\",\"transmitted\"}\n",
    "            },\n",
    "            TableAlignments->{Center,Automatic}\n",
    "        ]\n",
    "    };\n",
    "    \n",
    "    (* points to draw light vectors *)\n",
    "    iPoint = range/2 {-Sin@θi,0, Cos@θi};\n",
    "    rPoint = range/2 { Sin@θi,0, Cos@θi};\n",
    "    tPoint = range/2 { Sin@θt,0,-Cos@θt};\n",
    "    (* plots of light vectors *)\n",
    "    (* represent phase shift of reflected light by a counterclockwise rotation of the light vetors *)\n",
    "    Svectors = Graphics3D@{\n",
    "        plotColor[[1]], Thickness@Large, Line@{\n",
    "            { iPoint, iPoint +                      {0,-1,0}                                   },\n",
    "            { rPoint, rPoint + Sr[[1]] ( Cos@Sr[[2]]{0,-1,0} + Sin@Sr[[2]]{Cos@θi,0,-Sin@θi} ) },\n",
    "            { tPoint, tPoint + St                   {0,-1,0}                                   }\n",
    "            //If[totalReflection, Nothing, #]&\n",
    "        }\n",
    "    };\n",
    "    Pvectors = Graphics3D@{\n",
    "        plotColor[[2]], Thickness@Large, Line@{\n",
    "            { iPoint, iPoint +                      { Cos@θi,0,Sin@θi}                         },\n",
    "            { rPoint, rPoint + Pr[[1]] ( Cos@Pr[[2]]{-Cos@θi,0,Sin@θi} + Sin@Pr[[2]]{0,-1,0} ) },\n",
    "            { tPoint, tPoint + Pt                   { Cos@θt,0,Sin@θt}                         }\n",
    "            //If[totalReflection, Nothing, #]&\n",
    "        }\n",
    "    };\n",
    "    \n",
    "    (* combining the plots into a single figure *)\n",
    "    fig = Show[\n",
    "        {\n",
    "            Graphics3D@{\n",
    "                (* interface of medium *)\n",
    "                Gray, Line@{ \n",
    "                    { {-range,0,0}, {range,0,0} },\n",
    "                    { {0,-range,0}, {0,range,0} }\n",
    "                },\n",
    "                (* light beams *)\n",
    "                Darker@plotColor[[4]], Line@{ {0,0,0}, 2iPoint },\n",
    "                plotColor[[4]], Line@{\n",
    "                    { {0,0,0}, 2rPoint },\n",
    "                    { {0,0,0}, 2tPoint }\n",
    "                    //If[totalReflection, Nothing, #]&\n",
    "                },\n",
    "                (* normal line *)\n",
    "                Gray, Dashed, Line@{ {0,0,-range}, {0,0,range} }\n",
    "            },\n",
    "            If[showS, Svectors, Nothing],\n",
    "            If[showP, Pvectors, Nothing]\n",
    "        },\n",
    "        PlotRange->{{-range,range},{-range,range},{-range,range}},\n",
    "        Boxed->False, BoxRatios->{1,1,1},\n",
    "        ViewPoint->CoordinateTransform[\"Spherical\"->\"Cartesian\",\n",
    "            {10,(90-elevation)Degree,(azimuthal-90)Degree}],\n",
    "        ImageSize->Medium\n",
    "    ];\n",
    "    \n",
    "    Column@{ table, fig }\n",
    "]"
   ]
  },
  {
   "cell_type": "markdown",
   "id": "b50820a7",
   "metadata": {},
   "source": [
    "#### plot a static figure"
   ]
  },
  {
   "cell_type": "code",
   "execution_count": 2,
   "id": "detailed-table",
   "metadata": {},
   "outputs": [
    {
     "data": {
      "text/html": [
       "<div><img alt=\"Output\" src=\"data:image/png;base64,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\"></div>"
      ],
      "text/plain": [
       "n =1Spacer[20]n =1.5\n",
       " 1             2\n",
       "θ =56.31Spacer[20]θ =90. - 55.14 I\n",
       " b                 c\n",
       "           incident   reflected   transmitted\n",
       "angle      40.        40.         25.37\n",
       "\n",
       "S(Power)   1          0.08∠180.   0.92\n",
       "\n",
       "P(Power)   1          0.01∠0.     0.99\n",
       "-Graphics3D-"
      ]
     },
     "execution_count": 2,
     "metadata": {
      "text/html": [],
      "text/plain": []
     },
     "output_type": "execute_result"
    }
   ],
   "source": [
    "Fresnel[1,1.5][40Degree][\"Power\"][True,True][40,20]"
   ]
  },
  {
   "cell_type": "markdown",
   "id": "272f2402",
   "metadata": {},
   "source": [
    "#### create an interactive interface (export a CDF file)"
   ]
  },
  {
   "cell_type": "code",
   "execution_count": null,
   "id": "ebc5d4f3",
   "metadata": {},
   "outputs": [],
   "source": [
    "Export[\n",
    "    FileNameJoin@{Directory[],\"Fresnel.cdf\"},\n",
    "    Notebook[{Cell[BoxData@ToBoxes@#,\"Output\"]}, WindowSize->All],\n",
    "    \"CDF\"\n",
    "]& @\n",
    "Manipulate[\n",
    "    Fresnel[n1,n2][θi Degree][vectorMagnitude][showS,showP][40,20],\n",
    "    \n",
    "    {{n1,   1, Subscript[\"n\",1]}, 1,2,0.1},\n",
    "    {{n2, 1.5, Subscript[\"n\",2]}, 1,2,0.1},\n",
    "    {{θi,   0, Subscript[\"θ\",i]}, 0,90,1 },\n",
    "    {{vectorMagnitude, \"Power\", \"vector amplitude\"}, {\"Amplitude\",\"Intensity\",\"Power\"}},\n",
    "    {{showS, True, \"show S light\"}, {True,False}},\n",
    "    {{showP, True, \"show P light\"}, {True,False}},\n",
    "    TrackedSymbols->{n1,n2, θi, vectorMagnitude, showS,showP},\n",
    "    \n",
    "    ControlPlacement->Right,\n",
    "    SaveDefinitions->True\n",
    "]"
   ]
  }
 ],
 "metadata": {
  "kernelspec": {
   "display_name": "Wolfram Language 12.1",
   "language": "Wolfram Language",
   "name": "wolframlanguage12.1"
  },
  "language_info": {
   "codemirror_mode": "mathematica",
   "file_extension": ".m",
   "mimetype": "application/vnd.wolfram.m",
   "name": "Wolfram Language",
   "pygments_lexer": "mathematica",
   "version": "12.0"
  }
 },
 "nbformat": 4,
 "nbformat_minor": 5
}
